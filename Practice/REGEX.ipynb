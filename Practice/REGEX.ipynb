{
 "cells": [
  {
   "cell_type": "code",
   "execution_count": 3,
   "metadata": {},
   "outputs": [
    {
     "name": "stdout",
     "output_type": "stream",
     "text": [
      "<Response [200]>\n"
     ]
    },
    {
     "data": {
      "text/plain": [
       "738301"
      ]
     },
     "execution_count": 3,
     "metadata": {},
     "output_type": "execute_result"
    }
   ],
   "source": [
    "#File input output and web requests\n",
    "\n",
    "import requests\n",
    "\n",
    "response = requests.get(url='https://gutenberg.org/cache/epub/74437/pg74437.txt')\n",
    "print(response)\n",
    "\n",
    "with open('book2.txt', 'w') as f:\n",
    "    f.write(response.text)\n",
    "\n",
    "\n",
    "with open('book2.txt', 'r') as f:\n",
    "    context = f.read()\n",
    "\n",
    "len(context)"
   ]
  },
  {
   "cell_type": "code",
   "execution_count": 1,
   "metadata": {},
   "outputs": [
    {
     "ename": "NameError",
     "evalue": "name 'char_dict' is not defined",
     "output_type": "error",
     "traceback": [
      "\u001b[0;31m---------------------------------------------------------------------------\u001b[0m",
      "\u001b[0;31mNameError\u001b[0m                                 Traceback (most recent call last)",
      "Cell \u001b[0;32mIn[2], line 44\u001b[0m\n\u001b[1;32m     39\u001b[0m \u001b[38;5;28;01mfor\u001b[39;00m sentence \u001b[38;5;129;01min\u001b[39;00m cleaned_sentences:\n\u001b[1;32m     40\u001b[0m    \u001b[38;5;66;03m#\u001b[39;00m\n\u001b[1;32m     41\u001b[0m     word_dict \u001b[38;5;241m=\u001b[39m word_frequency(sentence)\n\u001b[0;32m---> 44\u001b[0m plot_histogram(\u001b[43mchar_dict\u001b[49m, \u001b[38;5;124m'\u001b[39m\u001b[38;5;124mchars\u001b[39m\u001b[38;5;124m'\u001b[39m)\n\u001b[1;32m     45\u001b[0m plot_histogram(word_dict, \u001b[38;5;124m'\u001b[39m\u001b[38;5;124mwords\u001b[39m\u001b[38;5;124m'\u001b[39m)\n",
      "\u001b[0;31mNameError\u001b[0m: name 'char_dict' is not defined"
     ]
    }
   ],
   "source": [
    "from plotting_utils import plot_histogram\n",
    "\n",
    "# what we already have\n",
    "def word_frequency(sentence):\n",
    "    words = sentence.lower().split(' ')\n",
    "    \n",
    "    word_freq = {}\n",
    "    for word in words:\n",
    "        word_freq[word] = 0\n",
    "    \n",
    "    for word in words:\n",
    "        word_freq[word] += 1\n",
    "    \n",
    "    return word_freq\n",
    "\n",
    "def load_file(file_path):\n",
    "    with open(file_path, 'r') as f:\n",
    "        context = f.read()\n",
    "    return context\n",
    "\n",
    "def clean_text(text):\n",
    "    context = load_file('book2.txt')\n",
    "    context = ''.join(context.split('\\n'*7)[11:-3])\n",
    "    context = ''.join(context.split('\\n'*3))\n",
    "    context = ''.join(context.split('\\n'*2))\n",
    "    context = ''.join(context.split('\\n'))\n",
    "    return context.split('.')\n",
    "\n",
    "\n",
    "\n",
    "\n",
    "\n",
    "\n",
    "\n",
    "\n",
    "context = load_file('book2.txt')\n",
    "cleaned_sentences = clean_text(context)\n",
    "\n",
    "for sentence in cleaned_sentences:\n",
    "    char_dict = char_frequency(sentence)\n",
    "    word_dict = word_frequency(sentence)\n",
    "\n",
    "\n",
    "plot_histogram(char_dict, 'chars')\n",
    "plot_histogram(word_dict, 'words')"
   ]
  }
 ],
 "metadata": {
  "kernelspec": {
   "display_name": "env",
   "language": "python",
   "name": "python3"
  },
  "language_info": {
   "codemirror_mode": {
    "name": "ipython",
    "version": 3
   },
   "file_extension": ".py",
   "mimetype": "text/x-python",
   "name": "python",
   "nbconvert_exporter": "python",
   "pygments_lexer": "ipython3",
   "version": "3.12.8"
  }
 },
 "nbformat": 4,
 "nbformat_minor": 2
}
