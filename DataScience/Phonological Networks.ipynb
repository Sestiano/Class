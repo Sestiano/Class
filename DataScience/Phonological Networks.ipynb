{
 "cells": [
  {
   "cell_type": "code",
   "execution_count": null,
   "id": "initial_id",
   "metadata": {
    "ExecuteTime": {
     "end_time": "2025-03-21T14:36:52.994408Z",
     "start_time": "2025-03-21T14:36:49.089239Z"
    },
    "collapsed": true
   },
   "outputs": [
    {
     "name": "stdout",
     "output_type": "stream",
     "text": [
      "Requirement already satisfied: networkx in /home/seb/.local/lib/python3.13/site-packages (3.4.2)\n",
      "Requirement already satisfied: matplotlib in /home/seb/.local/lib/python3.13/site-packages (3.10.1)\n",
      "Requirement already satisfied: contourpy>=1.0.1 in /home/seb/.local/lib/python3.13/site-packages (from matplotlib) (1.3.1)\n",
      "Requirement already satisfied: cycler>=0.10 in /home/seb/.local/lib/python3.13/site-packages (from matplotlib) (0.12.1)\n",
      "Requirement already satisfied: fonttools>=4.22.0 in /home/seb/.local/lib/python3.13/site-packages (from matplotlib) (4.56.0)\n",
      "Requirement already satisfied: kiwisolver>=1.3.1 in /home/seb/.local/lib/python3.13/site-packages (from matplotlib) (1.4.8)\n",
      "Requirement already satisfied: numpy>=1.23 in /home/seb/.local/lib/python3.13/site-packages (from matplotlib) (2.2.4)\n",
      "Requirement already satisfied: packaging>=20.0 in /home/seb/.conda/envs/data_env/lib/python3.13/site-packages (from matplotlib) (24.2)\n",
      "Requirement already satisfied: pillow>=8 in /home/seb/.conda/envs/data_env/lib/python3.13/site-packages (from matplotlib) (11.1.0)\n",
      "Requirement already satisfied: pyparsing>=2.3.1 in /home/seb/.local/lib/python3.13/site-packages (from matplotlib) (3.2.1)\n",
      "Requirement already satisfied: python-dateutil>=2.7 in /home/seb/.conda/envs/data_env/lib/python3.13/site-packages (from matplotlib) (2.9.0.post0)\n",
      "Requirement already satisfied: six>=1.5 in /home/seb/.conda/envs/data_env/lib/python3.13/site-packages (from python-dateutil>=2.7->matplotlib) (1.17.0)\n"
     ]
    }
   ],
   "source": [
    "%pip install networkx matplotlib\n",
    "\n",
    "import networkx as nx\n",
    "import matplotlib.pyplot as plt"
   ]
  },
  {
   "cell_type": "code",
   "execution_count": 2,
   "id": "4290fd253a8a3430",
   "metadata": {
    "ExecuteTime": {
     "end_time": "2025-03-21T14:36:56.271571Z",
     "start_time": "2025-03-21T14:36:56.261010Z"
    }
   },
   "outputs": [],
   "source": [
    "#function to load phonological similarity data and create a network\n",
    "\n",
    "def load_phonological_network(file_path):\n",
    "    G = nx.Graph()\n",
    "\n",
    "    with open(file_path, 'r') as file:\n",
    "        for line in file:\n",
    "            line = line.strip()\n",
    "            if not line or \"\\t\" not in line:\n",
    "                continue\n",
    "            word1, word2 = line.split()\n",
    "            G.add_edge(word1, word2)\n",
    "\n",
    "    return G"
   ]
  },
  {
   "cell_type": "code",
   "execution_count": 5,
   "id": "c2df4033",
   "metadata": {
    "ExecuteTime": {
     "end_time": "2025-03-21T14:36:59.208348Z",
     "start_time": "2025-03-21T14:36:59.049296Z"
    }
   },
   "outputs": [
    {
     "name": "stdout",
     "output_type": "stream",
     "text": [
      "Number of edges: 36448\n",
      "Number of nodes: 12195\n",
      "Density: 0.0004902027042248445\n"
     ]
    }
   ],
   "source": [
    "file_path = '/home/seb/develop/Class/DataScience/PhonSimilarities.txt'\n",
    "G = load_phonological_network(file_path)\n",
    "\n",
    "num_edges = G.number_of_edges()\n",
    "print(f'Number of edges: {num_edges}')\n",
    "num_nodes = G.number_of_nodes()\n",
    "print(f'Number of nodes: {num_nodes}')\n",
    "density = (2 * num_edges) / (num_nodes * (num_nodes - 1))\n",
    "print(f'Density: {density}')\n",
    "\n"
   ]
  },
  {
   "cell_type": "code",
   "execution_count": null,
   "id": "60af2463",
   "metadata": {},
   "outputs": [],
   "source": []
  }
 ],
 "metadata": {
  "kernelspec": {
   "display_name": "data_env",
   "language": "python",
   "name": "python3"
  },
  "language_info": {
   "codemirror_mode": {
    "name": "ipython",
    "version": 3
   },
   "file_extension": ".py",
   "mimetype": "text/x-python",
   "name": "python",
   "nbconvert_exporter": "python",
   "pygments_lexer": "ipython3",
   "version": "3.13.2"
  }
 },
 "nbformat": 4,
 "nbformat_minor": 5
}
