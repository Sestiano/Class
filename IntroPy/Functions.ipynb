{
 "cells": [
  {
   "cell_type": "code",
   "execution_count": 4,
   "metadata": {},
   "outputs": [
    {
     "name": "stdout",
     "output_type": "stream",
     "text": [
      "[4, 5, 6]\n",
      "[4, 5, 6, 7]\n",
      "[4, 5, 6, 7]\n"
     ]
    }
   ],
   "source": [
    "x = [4, 5, 6]\n",
    "\n",
    "def anotherfunc(a):\n",
    "    a.append(7)\n",
    "    return a\n",
    "\n",
    "print(x)\n",
    "print(anotherfunc(x))\n",
    "print(x)"
   ]
  },
  {
   "cell_type": "code",
   "execution_count": 5,
   "metadata": {},
   "outputs": [
    {
     "name": "stdout",
     "output_type": "stream",
     "text": [
      "one two\n",
      "another way\n",
      "yet another way\n"
     ]
    }
   ],
   "source": [
    "def thefunction(x,y):\n",
    "    return x + \" \" + y\n",
    "\n",
    "#invole the function 3 ways\n",
    "print(thefunction(\"one\",\"two\"))\n",
    "print(thefunction(x=\"another\",y=\"way\"))\n",
    "print(thefunction(y=\"way\",x=\"yet another\"))"
   ]
  },
  {
   "cell_type": "code",
   "execution_count": 6,
   "metadata": {},
   "outputs": [
    {
     "name": "stdout",
     "output_type": "stream",
     "text": [
      "hat oops\n",
      "chair oops\n",
      "hat chair\n",
      "argument oops\n"
     ]
    }
   ],
   "source": [
    "def f(x=\"argument\",y=\"oops\"):\n",
    "    return x + \" \" + y\n",
    "\n",
    "print(f(\"hat\"))\n",
    "print(f(x=\"chair\"))\n",
    "print(f(\"hat\",\"chair\"))\n",
    "print(f())"
   ]
  },
  {
   "cell_type": "code",
   "execution_count": 7,
   "metadata": {},
   "outputs": [
    {
     "name": "stdout",
     "output_type": "stream",
     "text": [
      "3\n",
      "6\n",
      "8\n",
      "hat \t wow\n",
      "chair \t 3.5\n"
     ]
    }
   ],
   "source": [
    "#function with unspecified number of unnmaed and named arguments\n",
    "\n",
    "def func(*args,**kwargs):\n",
    "    for a in args:\n",
    "        print(a)\n",
    "    for k in kwargs:\n",
    "        print(k,\"\\t\",kwargs[k])\n",
    "\n",
    "#involed with unnamed FOLLOWED by named arguments\n",
    "\n",
    "func(3,6,8,hat=\"wow\",chair=3.5)"
   ]
  },
  {
   "cell_type": "code",
   "execution_count": 8,
   "metadata": {},
   "outputs": [
    {
     "name": "stdout",
     "output_type": "stream",
     "text": [
      "9\n"
     ]
    }
   ],
   "source": [
    "def fadd(*args):\n",
    "    count = 0\n",
    "    for a in args:\n",
    "        count += a\n",
    "    return count\n",
    "\n",
    "print(fadd(3, 6))\n"
   ]
  },
  {
   "cell_type": "code",
   "execution_count": 9,
   "metadata": {},
   "outputs": [
    {
     "name": "stdout",
     "output_type": "stream",
     "text": [
      "ciao\n",
      " \n",
      "ciao hello hola bonjour \n",
      "ciao bello \n"
     ]
    }
   ],
   "source": [
    "#take as input an arbitrary numbers of strings and concatenate them\n",
    "\n",
    "def sadd(*args):\n",
    "    if len(args) == 0:\n",
    "        return \" \"\n",
    "    elif len(args) == 1:\n",
    "        return args[0]\n",
    "    else: \n",
    "        mystring = \"\"\n",
    "        for a in args:\n",
    "            mystring += a + \" \"\n",
    "        return mystring\n",
    "\n",
    "print(sadd(\"ciao\"))\n",
    "print(sadd())\n",
    "print(sadd(\"ciao\", \"hello\", \"hola\", \"bonjour\"))\n",
    "print(sadd(\"ciao\", \"bello\"))\n"
   ]
  },
  {
   "cell_type": "code",
   "execution_count": 10,
   "metadata": {},
   "outputs": [
    {
     "name": "stdout",
     "output_type": "stream",
     "text": [
      "9\n"
     ]
    }
   ],
   "source": [
    "def word_count(sentence):\n",
    "    if sentence[0] != \" \":\n",
    "        count = 1\n",
    "        for i in sentence:\n",
    "            if i == \" \":\n",
    "                count += 1\n",
    "        return count\n",
    "    else: \n",
    "        count = 0\n",
    "        for i in sentence:\n",
    "            if i == \" \":\n",
    "                count += 1\n",
    "        return count\n",
    "\n",
    "print(word_count(\"the quick brown fox jumps over the lazy dog\"))"
   ]
  },
  {
   "cell_type": "code",
   "execution_count": 15,
   "metadata": {},
   "outputs": [
    {
     "name": "stdout",
     "output_type": "stream",
     "text": [
      "0\n"
     ]
    }
   ],
   "source": [
    "positive_words = [\"happy\", \"love\", \"great\", \"joy\", \"wonderful\"]\n",
    "negative_words = [\"sad\", \"hate\", \"bad\", \"angry\", \"terrible\"]\n",
    "\n",
    "def sentiment_analyzer(sentence):\n",
    "    counter = 0\n",
    "    for word in sentence.split():\n",
    "        if word in positive_words:\n",
    "            counter += 1\n",
    "        elif word in negative_words:\n",
    "            counter -= 1\n",
    "    return counter\n",
    "    \n",
    "\n",
    "print(sentiment_analyzer(\"I love programming but I hate bugs\"))"
   ]
  }
 ],
 "metadata": {
  "kernelspec": {
   "display_name": "Python 3",
   "language": "python",
   "name": "python3"
  },
  "language_info": {
   "codemirror_mode": {
    "name": "ipython",
    "version": 3
   },
   "file_extension": ".py",
   "mimetype": "text/x-python",
   "name": "python",
   "nbconvert_exporter": "python",
   "pygments_lexer": "ipython3",
   "version": "3.10.12"
  }
 },
 "nbformat": 4,
 "nbformat_minor": 2
}
