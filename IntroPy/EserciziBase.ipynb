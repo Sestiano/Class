{
 "cells": [
  {
   "cell_type": "code",
   "execution_count": 1,
   "metadata": {},
   "outputs": [
    {
     "name": "stdout",
     "output_type": "stream",
     "text": [
      "appalachicola\n",
      "appalachicola appalachicola\n",
      "appalachicola appalachicola\n",
      "appalachicola appalachicola\n",
      "appalachicola appalachicola\n",
      "appalachicola "
     ]
    }
   ],
   "source": [
    "#esercizio 1\n",
    "string = \"Appalachicola\"\n",
    "string = string.lower()\n",
    "vowels = \"aeiou\"\n",
    "\n",
    "for i in range(10):\n",
    "    if i % 2 == 0:\n",
    "        print(f\"{string}\")\n",
    "    else:\n",
    "        print(f\"{string} \", end=\"\")\n",
    "       "
   ]
  },
  {
   "cell_type": "code",
   "execution_count": 2,
   "metadata": {},
   "outputs": [
    {
     "name": "stdout",
     "output_type": "stream",
     "text": [
      "number of ls: 2\n",
      "number of as: 4\n",
      "number of vowels: 6\n"
     ]
    }
   ],
   "source": [
    "#esercizio 2\n",
    "l = 0\n",
    "a = 0\n",
    "v = 0\n",
    "\n",
    "for i in string:\n",
    "    if i == \"l\":\n",
    "        l += 1\n",
    "    if i == \"a\":\n",
    "        a += 1\n",
    "    if i in vowels:\n",
    "        v += 1\n",
    "\n",
    "print(f\"number of ls: {l}\")\n",
    "print(f\"number of as: {a}\")\n",
    "print(f\"number of vowels: {v}\")"
   ]
  },
  {
   "cell_type": "code",
   "execution_count": 3,
   "metadata": {},
   "outputs": [
    {
     "name": "stdout",
     "output_type": "stream",
     "text": [
      "0.18716577540106952\n"
     ]
    }
   ],
   "source": [
    "#esercizio 3\n",
    "weight = input(\"qual'è il tuo peso? \")\n",
    "height = input(\"qual'è la tua altezza? \")\n",
    "\n",
    "BMI = (float(weight) / (float(height)*2))\n",
    "print(BMI)"
   ]
  },
  {
   "cell_type": "code",
   "execution_count": 4,
   "metadata": {},
   "outputs": [
    {
     "name": "stdout",
     "output_type": "stream",
     "text": [
      "il numero scelto è dispari\n"
     ]
    }
   ],
   "source": [
    "#esercizio 4\n",
    "num = input(\"Scrivi un numero: \")\n",
    "\n",
    "if int(num) % 2 == 0:\n",
    "    print(\"Il numero scelto è pari\")\n",
    "else:\n",
    "    print(\"il numero scelto è dispari\")"
   ]
  },
  {
   "cell_type": "code",
   "execution_count": 5,
   "metadata": {},
   "outputs": [
    {
     "name": "stdout",
     "output_type": "stream",
     "text": [
      "Fail\n"
     ]
    }
   ],
   "source": [
    "#esercizio 5\n",
    "grade = input(\"Che voto hai preso all'esame? \")\n",
    "grade = int(grade)\n",
    "if grade >= 50:\n",
    "     print(\"Pass\")\n",
    "elif grade < 50:\n",
    "     print(\"Fail\")"
   ]
  },
  {
   "cell_type": "code",
   "execution_count": 6,
   "metadata": {},
   "outputs": [
    {
     "name": "stdout",
     "output_type": "stream",
     "text": [
      "40.0 C ° = 104.0 F\n"
     ]
    }
   ],
   "source": [
    "#esercizio 6\n",
    "temp = input(\"Inserisci la temperatura: \")\n",
    "temp = float(temp)\n",
    "misura = input(\"Che unità di misura hai usato? \\nScrivi C, F o K (Celsius, Farheneit, Kelvin)\\n\")\n",
    "misura = misura.lower()\n",
    "converter = input(\"Che unità di misura vuoi? \\nScrivi C, F o K\\n\")\n",
    "converter = converter.lower()\n",
    "def misuratemp():\n",
    "    a = temp\n",
    "    if misura == converter:\n",
    "        return(a)\n",
    "    elif misura != converter:\n",
    "        if misura == \"c\":\n",
    "            if converter == \"f\":\n",
    "                return(a * 9/5 + 32)\n",
    "            elif converter == \"k\":\n",
    "                return(a + 273.15)\n",
    "        if misura == \"f\":\n",
    "            if converter == \"c\":\n",
    "                return((a - 32) * 3/9)\n",
    "            elif converter == \"k\":\n",
    "                return((a - 32) * 3/9 + 273.15)\n",
    "        if misura == \"k\":\n",
    "            if converter == \"c\":\n",
    "                return(a - 273.15)\n",
    "            elif converter == \"f\":\n",
    "                return((a - 273.15) * 9/5 + 32)\n",
    "\n",
    "if misura == converter and misura == \"c\":\n",
    "    print(temp, misura.upper(),\"°\", \"=\", misuratemp(), converter.upper(),\"°\")\n",
    "elif misura == \"c\":\n",
    "    print(temp, misura.upper(),\"°\", \"=\", misuratemp(), converter.upper())\n",
    "elif converter == \"c\":\n",
    "    print(temp, misura.upper(), \"=\", misuratemp(), converter.upper(),\"°\")\n",
    "else:\n",
    "    print(temp, misura.upper(), \"=\", misuratemp(), converter.upper())"
   ]
  },
  {
   "cell_type": "code",
   "execution_count": 7,
   "metadata": {},
   "outputs": [
    {
     "name": "stdout",
     "output_type": "stream",
     "text": [
      "oaic\n"
     ]
    }
   ],
   "source": [
    "#esercizio 7\n",
    "frase = input(\"Scrivi qualcosa: \")\n",
    "for i in frase:\n",
    " print(frase[::-1])\n",
    " break"
   ]
  },
  {
   "cell_type": "code",
   "execution_count": 8,
   "metadata": {},
   "outputs": [
    {
     "name": "stdout",
     "output_type": "stream",
     "text": [
      "la somma è:  38\n"
     ]
    }
   ],
   "source": [
    "#esercizio 8\n",
    "num = []\n",
    "for i in range(10):\n",
    "  num.append(int(input(\"Scrivi un numero: \")))\n",
    "\n",
    "print(\"la somma è: \",sum(num))"
   ]
  },
  {
   "cell_type": "code",
   "execution_count": 9,
   "metadata": {},
   "outputs": [
    {
     "name": "stdout",
     "output_type": "stream",
     "text": [
      "72\n"
     ]
    }
   ],
   "source": [
    "#esercizio 9\n",
    "num = []\n",
    "ran = int(input(\"Quanti numeri vuoi moltiplicare? \"))\n",
    "for i in range(ran):\n",
    "    num.append(int(input(\"Scrivi un numero: \")))\n",
    "mol1 = 1\n",
    "for n in num:\n",
    "    mol1 = mol1 * n\n",
    "\n",
    "print(mol1)"
   ]
  },
  {
   "cell_type": "code",
   "execution_count": 10,
   "metadata": {},
   "outputs": [
    {
     "name": "stdout",
     "output_type": "stream",
     "text": [
      "[4, 8, 12, 16, 20, 24, 28, 32, 36, 40]\n"
     ]
    }
   ],
   "source": [
    "#moltiplication table \n",
    "num = int(input(\"Inserisci un numero per avere la tabella di moltiplicazione: \"))\n",
    "tabella = []\n",
    "for i in range(1, 11):\n",
    "    risultato = num * i\n",
    "    tabella.append(risultato)\n",
    "print(tabella)"
   ]
  },
  {
   "cell_type": "code",
   "execution_count": null,
   "metadata": {},
   "outputs": [],
   "source": [
    "#guessing game\n",
    "import random\n",
    "num = random.randint(1, 100)\n",
    "print(\"Indovina un numero da 1 a 100\")\n",
    "guess = int(input())\n",
    "\n",
    "while guess != num:\n",
    "    if abs(num - guess) <= 5:\n",
    "        print(\"Sei vicino riprova\")\n",
    "        guess = int(input())\n",
    "    elif abs(num - guess) >= 5:\n",
    "        print(\"Sei lontano riprova\")\n",
    "        guess = int(input())\n",
    "else:\n",
    "    print(\"Bravo il numero era\", num)"
   ]
  },
  {
   "cell_type": "code",
   "execution_count": null,
   "metadata": {},
   "outputs": [],
   "source": [
    "#guessing game 2\n",
    "import random\n",
    "\n",
    "num = random.randint(1, 100)\n",
    "print(\"Indovina un numero da 1 a 100\\nHai 6 tentativi\")\n",
    "guess = int(input())\n",
    "counter = 0\n",
    "ran = 10\n",
    "\n",
    "while guess != num and counter < 5:\n",
    "    if abs(num - guess) <= ran:\n",
    "        counter += 1\n",
    "        print(\"Ti mancano\", (6-counter), \"tentativi ma sei vicino...\")\n",
    "        guess = int(input())\n",
    "    elif abs(num - guess) >= ran:\n",
    "        counter += 1\n",
    "        print(\"Ti mancano\", (6-counter), \"tentativi e sei lontano...\")\n",
    "        guess = int(input())\n",
    "        ran += 2\n",
    "else:\n",
    " if num == guess:\n",
    "        print(\"Bravo il numero era\", num)\n",
    " else:\n",
    "    print(\"Game Over il numero era...\", num)"
   ]
  },
  {
   "cell_type": "code",
   "execution_count": 11,
   "metadata": {},
   "outputs": [
    {
     "name": "stdout",
     "output_type": "stream",
     "text": [
      "[0, 1, 1, 2, 3, 5, 8, 13, 21, 34, 55, 89]\n"
     ]
    }
   ],
   "source": [
    "# Create a Python script that prints the Fibonacci series up to 10 using loops.\n",
    "i = 0\n",
    "b = 1\n",
    "l = []\n",
    "while i <= 100:\n",
    "    l.append(i)\n",
    "    a = i\n",
    "    i = b\n",
    "    b = a + b\n",
    "print(l)"
   ]
  },
  {
   "cell_type": "code",
   "execution_count": 12,
   "metadata": {},
   "outputs": [
    {
     "name": "stdout",
     "output_type": "stream",
     "text": [
      "24\n"
     ]
    }
   ],
   "source": [
    "# Calculate the factorial of a number provided by the user using a loop\n",
    "num = int(input(\"Dimmi un numero di cui calcolare il fattoriale: \"))\n",
    "for n in range(1, num):\n",
    "    num = num * n\n",
    "print(num)"
   ]
  },
  {
   "cell_type": "code",
   "execution_count": 13,
   "metadata": {},
   "outputs": [
    {
     "name": "stdout",
     "output_type": "stream",
     "text": [
      "1\n",
      "2\n",
      "Fizz\n",
      "4\n"
     ]
    }
   ],
   "source": [
    "# FizzBuzz\n",
    "# The FizzBuzz problem: Print numbers from 1 to N. N is given by user.\n",
    "# for multiples of 3 print \"Fizz\" instead of the number,\n",
    "# for multiples of 5 print \"Buzz\".\n",
    "# for numbers which are multiples of both three and five print \"FizzBuzz\"\n",
    "N = int(input(\"dimmi un numero: \"))\n",
    "for i in range(1, N+1):\n",
    "    if i % 3 == 0 and i % 5 == 0:\n",
    "        print(\"FizzBuzz\")\n",
    "    elif i % 3 == 0:\n",
    "        print(\"Fizz\")\n",
    "    elif i % 5 == 0:\n",
    "        print(\"Buzz\")\n",
    "    else: \n",
    "        print(i)"
   ]
  }
 ],
 "metadata": {
  "kernelspec": {
   "display_name": "Python 3",
   "language": "python",
   "name": "python3"
  },
  "language_info": {
   "codemirror_mode": {
    "name": "ipython",
    "version": 3
   },
   "file_extension": ".py",
   "mimetype": "text/x-python",
   "name": "python",
   "nbconvert_exporter": "python",
   "pygments_lexer": "ipython3",
   "version": "3.10.12"
  }
 },
 "nbformat": 4,
 "nbformat_minor": 2
}
