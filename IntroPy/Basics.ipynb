{
 "cells": [
  {
   "cell_type": "markdown",
   "metadata": {},
   "source": [
    "Basics"
   ]
  },
  {
   "cell_type": "code",
   "execution_count": 5,
   "metadata": {},
   "outputs": [
    {
     "name": "stdout",
     "output_type": "stream",
     "text": [
      "2\n",
      "<class 'str'>\n"
     ]
    }
   ],
   "source": [
    "# simple terminal input\n",
    "\n",
    "x = input('give me a number: ')\n",
    "print(x)\n",
    "print(type(x)) # what is the type of x?"
   ]
  },
  {
   "cell_type": "code",
   "execution_count": 7,
   "metadata": {},
   "outputs": [
    {
     "name": "stdout",
     "output_type": "stream",
     "text": [
      "3\n",
      "2.009\n",
      "2.009\n"
     ]
    }
   ],
   "source": [
    "# convert to number\n",
    "# casting or type conversions \n",
    "\n",
    "print(int(x) + 1)\n",
    "print(float(x) + 0.009) # what will happen?\n",
    "print(int(x) + 0.009)  # again, what will happen?\n"
   ]
  },
  {
   "cell_type": "code",
   "execution_count": 10,
   "metadata": {},
   "outputs": [
    {
     "name": "stdout",
     "output_type": "stream",
     "text": [
      "Con un peso di  70.0 kg e unaltezza di  1.87 m\n",
      "Il tuo BMI è:  20.0177299894192\n"
     ]
    }
   ],
   "source": [
    "# Esercizio 1 \n",
    "# crea un BMI Calculator\n",
    "# Write a code snippet that takes a person's weight and height as input\n",
    "# and calculates the person's BMI.\n",
    "# The formula is BMI = weight / height **2\n",
    "\n",
    "weight = input('Inserisci il tuo peso in Kg: ')\n",
    "height = input('Inserisci la tua altezza in metri: (utilizza il . es. 1.87)')\n",
    "weight = float(weight)\n",
    "height = float(height)\n",
    "BMI = weight / height**2\n",
    "print('Con un peso di ', weight, 'kg e un''altezza di ', height, 'm')\n",
    "print('Il tuo BMI è: ', BMI)"
   ]
  },
  {
   "cell_type": "code",
   "execution_count": 3,
   "metadata": {},
   "outputs": [
    {
     "name": "stdout",
     "output_type": "stream",
     "text": [
      "Hai inserito:  123\n",
      "Questo è un numero dispari\n"
     ]
    }
   ],
   "source": [
    "# Esercizio 2 \n",
    "# Even or Odd\n",
    "# Write a code snippet that checks if a given number is even or odd\n",
    "# Possiamo usare la divisione con % che fornisce il resto dopo la divisione, divide per due e assicurarci che il resto sia zero\n",
    "\n",
    "number = input('Inserisci un numero: ')\n",
    "print('Hai inserito: ', number)\n",
    "number = int(number)\n",
    "if number % 2 == 0:\n",
    "    print('Si tratta di un numero pari')\n",
    "else:\n",
    "    print('Questo è un numero dispari')"
   ]
  },
  {
   "cell_type": "code",
   "execution_count": 4,
   "metadata": {},
   "outputs": [
    {
     "name": "stdout",
     "output_type": "stream",
     "text": [
      "You entered:  123\n",
      "Pass\n"
     ]
    }
   ],
   "source": [
    "# Esercizio 3 \n",
    "# Grade Evaluation\n",
    "# Create a snippet that takes a student's score as input\n",
    "# and prints 'Pass' if the score is 50 or above and 'Fail' otherwise\n",
    "\n",
    "score = input('Please enter your score: ')\n",
    "print('You entered: ', score)\n",
    "score = int(score)\n",
    "if score >= 50:\n",
    "    print('Pass')\n",
    "else:\n",
    "    print('Fail')"
   ]
  },
  {
   "cell_type": "code",
   "execution_count": 5,
   "metadata": {},
   "outputs": [
    {
     "name": "stdout",
     "output_type": "stream",
     "text": [
      "You entered:  4 and 3\n",
      "The first number is larger\n"
     ]
    }
   ],
   "source": [
    "# Esercizio 4 \n",
    "# Number Comparison\n",
    "# Write a snippet that takes two numbers as input\n",
    "# and prints which one is larger. If they are equal print 'The numbers are equal'\n",
    "\n",
    "num1 = input('Please enter the first number: ')\n",
    "num2 = input('Please enter the second number: ')\n",
    "print('You entered: ', num1, 'and', num2)\n",
    "num1 = int(num1)\n",
    "num2 = int(num2)\n",
    "\n",
    "if num1 > num2:\n",
    "    print('The first number is larger')\n",
    "elif num1 < num2:\n",
    "    print('The second number is larger')\n",
    "else:\n",
    "    print('The numbers are equal')\n"
   ]
  }
 ],
 "metadata": {
  "kernelspec": {
   "display_name": ".venv",
   "language": "python",
   "name": "python3"
  },
  "language_info": {
   "codemirror_mode": {
    "name": "ipython",
    "version": 3
   },
   "file_extension": ".py",
   "mimetype": "text/x-python",
   "name": "python",
   "nbconvert_exporter": "python",
   "pygments_lexer": "ipython3",
   "version": "3.12.7"
  }
 },
 "nbformat": 4,
 "nbformat_minor": 2
}
