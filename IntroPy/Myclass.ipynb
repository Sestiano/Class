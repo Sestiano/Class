{
 "cells": [
  {
   "cell_type": "code",
   "execution_count": 16,
   "metadata": {},
   "outputs": [
    {
     "name": "stdout",
     "output_type": "stream",
     "text": [
      "Print myname\n",
      "Print myname\n",
      "Print Boo\n",
      "Blu is 10 years old\n",
      "Woo is 15 years old\n",
      "Boo is 5 years old\n"
     ]
    }
   ],
   "source": [
    "class Parrot:\n",
    "    def __init__(self, name='myname', age='myage'):   #within a class you can put how many attributes you want\n",
    "        print(f'Print {name}')\n",
    "        i = 0\n",
    "        self.name = name   #self are object persistent within a class\n",
    "        self.age = age\n",
    "\n",
    "\n",
    "parrot1 = Parrot()\n",
    "parrot1.name = 'Blu'\n",
    "parrot1.age = 10\n",
    "\n",
    "parrot2 = Parrot()\n",
    "parrot2.name = 'Woo'\n",
    "parrot2.age = 15\n",
    "\n",
    "parrot3 = Parrot('Boo', 5)\n",
    "\n",
    "print(f'{parrot1.name} is {parrot1.age} years old')\n",
    "print(f'{parrot2.name} is {parrot2.age} years old')\n",
    "print(f'{parrot3.name} is {parrot3.age} years old')"
   ]
  },
  {
   "cell_type": "code",
   "execution_count": 32,
   "metadata": {},
   "outputs": [
    {
     "name": "stdout",
     "output_type": "stream",
     "text": [
      "r: lenght = 5; width = 3;\n"
     ]
    }
   ],
   "source": [
    "#create a class rectangle that takes two variables, lenght and width\n",
    "class Rectangle:\n",
    "    def __init__(self, name, lenght, width):\n",
    "        self.name = name\n",
    "        self.lenght = lenght\n",
    "        self.width = width\n",
    "\n",
    "\n",
    "r = Rectangle('r', 5, 3)\n",
    "print(f'{r.name}: lenght = {r.lenght}; width = {r.width};')"
   ]
  },
  {
   "cell_type": "code",
   "execution_count": 53,
   "metadata": {},
   "outputs": [
    {
     "name": "stdout",
     "output_type": "stream",
     "text": [
      "rectangle: lenght = 4.0; width = 4.0;\n",
      "rectangle has perimeter = 16.0 and area = 16.0\n"
     ]
    }
   ],
   "source": [
    "class Rectangle:\n",
    "    def __init__(self, name, lenght, width):\n",
    "        self.name = name\n",
    "        self.lenght = lenght\n",
    "        self.width = width\n",
    "    \n",
    "    def perimeter(self):\n",
    "        return 2*self.lenght + 2*self.width\n",
    "    \n",
    "    def area(self):\n",
    "        return self.lenght * self.width\n",
    "    \n",
    "\n",
    "try:\n",
    "    r = Rectangle('rectangle', float(input('insert the lenght of your rectangle: ')), float(input('insert the width of your rectangle: ')))\n",
    "    print(f'{r.name}: lenght = {r.lenght}; width = {r.width};')\n",
    "    print(f'{r.name} has perimeter = {r.perimeter()} and area = {r.area()}')\n",
    "except ValueError:\n",
    "    print('Non hai inserito numeri validi')\n"
   ]
  },
  {
   "cell_type": "code",
   "execution_count": 56,
   "metadata": {},
   "outputs": [
    {
     "name": "stdout",
     "output_type": "stream",
     "text": [
      "I can eat!\n",
      "I can sleep!\n",
      "I can bark! Woof Woof\n"
     ]
    }
   ],
   "source": [
    "#classes can inherit from another class\n",
    "\n",
    "class Animal:\n",
    "\n",
    "    def eat(self):\n",
    "        print('I can eat!')\n",
    "    def sleep(self):\n",
    "        print('I can sleep!')\n",
    "\n",
    "#derivated class\n",
    "class Dog(Animal):\n",
    "\n",
    "    def bark(self):\n",
    "        print('I can bark! Woof Woof')\n",
    "\n",
    "dog1 = Dog()\n",
    "\n",
    "dog1.eat()\n",
    "dog1.sleep()\n",
    "#calling member of the derivated class\n",
    "dog1.bark();"
   ]
  },
  {
   "cell_type": "code",
   "execution_count": 70,
   "metadata": {},
   "outputs": [
    {
     "name": "stdout",
     "output_type": "stream",
     "text": [
      "perimeter = 20 and area = 25\n"
     ]
    }
   ],
   "source": [
    "class Rectangle:\n",
    "    def __init__(self, lenght, width):\n",
    "        self.lenght = lenght\n",
    "        self.width = width\n",
    "    \n",
    "    def perimeter(self):\n",
    "        return 2*self.lenght + 2*self.width\n",
    "    \n",
    "    def area(self):\n",
    "        return self.lenght * self.width\n",
    "    \n",
    "\n",
    "class Square(Rectangle):\n",
    "    def __init__(self, lenght):\n",
    "        super().__init__(lenght, lenght) #super call the upper class (init) and he pass lenght and lenght \n",
    "       # self.lenght = lenght\n",
    "       # self.width = lenght\n",
    "\n",
    "\n",
    "r = Rectangle(5, 3)\n",
    "s = Square(5)\n",
    "print(f'perimeter = {s.perimeter()} and area = {s.area()}')\n"
   ]
  },
  {
   "cell_type": "code",
   "execution_count": 71,
   "metadata": {},
   "outputs": [
    {
     "name": "stdout",
     "output_type": "stream",
     "text": [
      "Rendering Square...\n",
      "Rendereing Cicle...\n"
     ]
    }
   ],
   "source": [
    "class Polygon:\n",
    "    #method to render a shape\n",
    "    def render(self):\n",
    "        print('Render a Polygon...')\n",
    "\n",
    "class Square(Polygon):\n",
    "    def render(self):\n",
    "        print('Rendering Square...')\n",
    "\n",
    "class Circle(Polygon):\n",
    "    def render(self):\n",
    "        print('Rendereing Cicle...')\n",
    "\n",
    "s1 = Square()\n",
    "s1.render()\n",
    "\n",
    "c1 = Circle()\n",
    "c1.render()"
   ]
  },
  {
   "cell_type": "code",
   "execution_count": 2,
   "metadata": {},
   "outputs": [
    {
     "name": "stdout",
     "output_type": "stream",
     "text": [
      "Selling Price: 900\n",
      "Selling Price: 900\n",
      "Selling Price: 1000\n"
     ]
    }
   ],
   "source": [
    "class Computer:\n",
    "    def __init__(self):\n",
    "        self.__maxprice = 900   #__ for private attributes\n",
    "    \n",
    "    def sell(self):\n",
    "        print('Selling Price: {}'.format(self.__maxprice))\n",
    "    \n",
    "    def setMaxPrice(self, price):\n",
    "        self.__maxprice = price\n",
    "\n",
    "c = Computer()\n",
    "c.sell()\n",
    "\n",
    "c.__maxprice = 1000\n",
    "c.sell()\n",
    "\n",
    "c.setMaxPrice(1000)\n",
    "c.sell()"
   ]
  },
  {
   "cell_type": "code",
   "execution_count": 4,
   "metadata": {},
   "outputs": [
    {
     "name": "stdout",
     "output_type": "stream",
     "text": [
      "\n",
      "------0000------\n",
      " at once; but, alas for poor Alice!\n",
      "\n",
      "------0001------\n",
      " when she got to the\n",
      "door, she found she had forgotten the little golden key, and when she\n",
      "went back to the table for it, she found she could not possibly reach\n",
      "it: she could see it quite plainly through the glass, and she tried her\n",
      "best to climb up one of the legs of the table, but it was too slippery;\n",
      "and when she had tired herself out with trying, the poor little thing\n",
      "sat down and cried.\n",
      "\n",
      "------0002------\n",
      "\n",
      "\n",
      "“Come, there’s no use in crying like that!\n",
      "\n",
      "------0003------\n",
      "” said Alice to herself,\n",
      "rather sharply; “I advise you to leave off this minute!\n",
      "\n",
      "------0004------\n",
      "” She generally\n",
      "gave herself very good advice, (though she very seldom followed it),\n",
      "and sometimes she scolded herself so severely as to bring tears into\n",
      "her eyes; and once she remembered trying to box her own ears for having\n",
      "cheated herself in a game of croquet she was playing against herself,\n",
      "for this curious child was very fond of pretending to be two people.\n",
      "\n",
      "------0005------\n",
      "\n",
      "“But it’s no use now,” thought poor Alice, “to pretend to be two\n",
      "people!\n",
      "\n",
      "------0006------\n",
      " Why, there’s hardly enough of me left to make _one_ respectable\n",
      "person!\n",
      "\n",
      "------0007------\n",
      "”\n",
      "\n",
      "Soon her eye fell on a little glass box that was lying under the table:\n",
      "she opened it, and found in it a very small cake, on which the words\n",
      "“EAT ME” were beautifully marked in currants.\n",
      "\n",
      "------0008------\n",
      " “Well, I’ll eat it,” said\n",
      "Alice, “and if it makes me grow larger, I can reach the key; and if it\n",
      "makes me grow smaller, I can creep under the door; so either way I’ll\n",
      "get into the garden, and I don’t care which happens!\n",
      "\n",
      "------0009------\n",
      "”\n",
      "\n",
      "She ate a little bit, and said anxiously to herself, “Which way?\n"
     ]
    }
   ],
   "source": [
    "import re\n",
    "\n",
    "class File:\n",
    "    def __init__(self, s):\n",
    "        f = open(s, 'r')\n",
    "        self.text = f.read()\n",
    "        f.close()\n",
    "        #stripe header\n",
    "        self.text = self.text[10841:]\n",
    "    \n",
    "    def getText(self):\n",
    "        return self.text\n",
    "    \n",
    "\n",
    "class Text:\n",
    "    def __init__(self, f):\n",
    "        text = f.getText()\n",
    "\n",
    "        bits = re.split('([\\.!?])',text)\n",
    "\n",
    "        self.sentences = []      \n",
    "        \n",
    "        i = 0\n",
    "        while i < len(bits)-1:\n",
    "            self.sentences.append(bits[i]+bits[i+1])\n",
    "            i += 2\n",
    "        \n",
    "    def getSentences(self):\n",
    "        return self.sentences\n",
    "    \n",
    "\n",
    "alice_path = 'alice.txt'\n",
    "\n",
    "f = File(alice_path)\n",
    "t = Text(f)\n",
    "\n",
    "ss = t.getSentences()\n",
    "\n",
    "for i, s in enumerate(ss[:10]):\n",
    "    print(f'\\n------{i:04d}------')\n",
    "    print(s)\n",
    "            "
   ]
  }
 ],
 "metadata": {
  "kernelspec": {
   "display_name": "Python 3",
   "language": "python",
   "name": "python3"
  },
  "language_info": {
   "codemirror_mode": {
    "name": "ipython",
    "version": 3
   },
   "file_extension": ".py",
   "mimetype": "text/x-python",
   "name": "python",
   "nbconvert_exporter": "python",
   "pygments_lexer": "ipython3",
   "version": "3.10.12"
  }
 },
 "nbformat": 4,
 "nbformat_minor": 2
}
