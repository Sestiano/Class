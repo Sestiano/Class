{
 "cells": [
  {
   "cell_type": "code",
   "execution_count": 1,
   "metadata": {},
   "outputs": [],
   "source": [
    "#open file stream\n",
    "outFile = open('testfile.txt','w')\n",
    "#write to it\n",
    "outFile.write('some text!\\n')\n",
    "outFile.write('...and some more text!\\n')\n",
    "outFile.close() #close file stream"
   ]
  },
  {
   "cell_type": "code",
   "execution_count": 4,
   "metadata": {},
   "outputs": [],
   "source": [
    "#open file stream\n",
    "with open('testfile.txt','w') as outFile:\n",
    "    #write to it\n",
    "    outFile.write('Some text\\n')\n",
    "    outFile.write('...and some more text\\n')"
   ]
  },
  {
   "cell_type": "code",
   "execution_count": 5,
   "metadata": {},
   "outputs": [
    {
     "name": "stdout",
     "output_type": "stream",
     "text": [
      "Some text\n",
      "...and some more text\n",
      "\n",
      "9:Some text\n",
      "21:...and some more text\n",
      "0:\n"
     ]
    }
   ],
   "source": [
    "#read\n",
    "#open file stream\n",
    "myFile = 'testfile.txt'\n",
    "with open(myFile,'r') as inFile:\n",
    "    stuff = inFile.read()\n",
    "    print(stuff)\n",
    "    \n",
    "lines = stuff.split('\\n')\n",
    "for line in lines:\n",
    "    print(len(line), ':', line, sep='')"
   ]
  },
  {
   "cell_type": "code",
   "execution_count": 6,
   "metadata": {},
   "outputs": [
    {
     "name": "stdout",
     "output_type": "stream",
     "text": [
      "<class '_io.TextIOWrapper'>\n",
      "10: Some text\n",
      "22: ...and some more text\n"
     ]
    }
   ],
   "source": [
    "#open file\n",
    "inFile = open('testfile.txt','r')\n",
    "#read from stream line by line\n",
    "print(type(inFile))\n",
    "for line in inFile:\n",
    "    #print lenght of line and the line\n",
    "    print(len(line), ': ',line,sep='',end='')\n",
    "inFile.close() #close file stream"
   ]
  },
  {
   "cell_type": "code",
   "execution_count": 7,
   "metadata": {},
   "outputs": [
    {
     "name": "stdout",
     "output_type": "stream",
     "text": [
      "0 CHAPTER\n",
      "1 I.\n",
      "2 Down\n",
      "3 the\n",
      "4 Rabbit-Hole\n",
      "5 Alice\n",
      "6 was\n",
      "7 beginning\n",
      "8 to\n",
      "9 get\n",
      "10 very\n",
      "11 tired\n",
      "12 of\n",
      "13 sitting\n",
      "14 by\n",
      "15 her\n",
      "16 sister\n",
      "17 on\n",
      "18 the\n",
      "19 bank,\n",
      "20 and\n",
      "21 of\n",
      "22 having\n",
      "23 nothing\n",
      "24 to\n",
      "25 do:\n",
      "26 once\n",
      "27 or\n",
      "28 twice\n",
      "29 she\n",
      "30 had\n",
      "31 peeped\n",
      "32 into\n",
      "33 the\n",
      "34 book\n",
      "35 her\n",
      "36 sister\n",
      "37 was\n",
      "38 reading,\n",
      "39 but\n",
      "40 it\n",
      "41 had\n",
      "42 no\n",
      "43 pictures\n",
      "44 or\n",
      "45 conversations\n",
      "46 in\n",
      "47 it,\n",
      "48 “and\n",
      "49 what\n",
      "50 is\n",
      "51 the\n",
      "52 use\n",
      "53 of\n",
      "54 a\n",
      "55 book,”\n",
      "56 thought\n",
      "57 Alice\n",
      "58 “without\n",
      "59 pictures\n",
      "60 or\n",
      "61 conversations?”\n",
      "62 So\n",
      "63 she\n",
      "64 was\n",
      "65 considering\n",
      "66 in\n",
      "67 her\n",
      "68 own\n",
      "69 mind\n",
      "70 (as\n",
      "71 well\n",
      "72 as\n",
      "73 she\n",
      "74 could,\n",
      "75 for\n",
      "76 the\n",
      "77 hot\n",
      "78 day\n",
      "79 made\n",
      "80 her\n",
      "81 feel\n",
      "82 very\n",
      "83 sleepy\n",
      "84 and\n",
      "85 stupid),\n",
      "86 whether\n",
      "87 the\n",
      "88 pleasure\n",
      "89 of\n",
      "90 making\n",
      "91 a\n",
      "92 daisy-chain\n",
      "93 would\n",
      "94 be\n",
      "95 worth\n",
      "96 the\n",
      "97 trouble\n",
      "98 of\n",
      "99 getting\n",
      "100 up\n"
     ]
    }
   ],
   "source": [
    "#alice\n",
    "inFile = open('alice.txt','r')\n",
    "#counter = 0\n",
    "lines = []\n",
    "for line in inFile:\n",
    "    lines.append(line)\n",
    "#    if counter == 100:\n",
    "#        break                #era per contare quante righe\n",
    "lines = lines[52:]\n",
    "#i = 0\n",
    "#while i < 50:\n",
    "#   print(lines[i],end='')\n",
    "#    i += 1\n",
    "#for row in mylines:\n",
    "#   print(row)\n",
    "words = []\n",
    "for line in lines:\n",
    "    word = line.split()\n",
    "    words += word\n",
    "\n",
    "i = 0\n",
    "while i < 101:\n",
    "    print(i,words[i])\n",
    "    i += 1\n",
    "inFile.close()"
   ]
  }
 ],
 "metadata": {
  "kernelspec": {
   "display_name": "Python 3",
   "language": "python",
   "name": "python3"
  },
  "language_info": {
   "codemirror_mode": {
    "name": "ipython",
    "version": 3
   },
   "file_extension": ".py",
   "mimetype": "text/x-python",
   "name": "python",
   "nbconvert_exporter": "python",
   "pygments_lexer": "ipython3",
   "version": "3.10.12"
  }
 },
 "nbformat": 4,
 "nbformat_minor": 2
}
