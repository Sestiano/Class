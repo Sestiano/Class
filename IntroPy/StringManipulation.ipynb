{
 "cells": [
  {
   "cell_type": "code",
   "execution_count": 3,
   "metadata": {},
   "outputs": [
    {
     "name": "stdout",
     "output_type": "stream",
     "text": [
      "plchcl\n"
     ]
    }
   ],
   "source": [
    "import re\n",
    "s = ''\n",
    "for i in 'Apalachicola'.lower():\n",
    "    if i not in 'aeiou':\n",
    "        s = s + i\n",
    "print(s)"
   ]
  },
  {
   "cell_type": "code",
   "execution_count": 4,
   "metadata": {},
   "outputs": [
    {
     "name": "stdout",
     "output_type": "stream",
     "text": [
      "['is', ' s', 'is']\n"
     ]
    }
   ],
   "source": [
    "#manipulating text\n",
    "import re\n",
    "s = 'this string is pretty long'\n",
    "p = re.findall('.s', s)\n",
    "print(p)"
   ]
  },
  {
   "cell_type": "code",
   "execution_count": 5,
   "metadata": {},
   "outputs": [
    {
     "name": "stdout",
     "output_type": "stream",
     "text": [
      "This is a rather long string \n",
      " ThWOW WOW a rather longWOWtring\n"
     ]
    }
   ],
   "source": [
    "import re\n",
    "#define a string\n",
    "s1 = 'This is a rather long string'\n",
    "#replace '.s' with 'WOW'\n",
    "s2 = re.sub('.s','WOW',s1)\n",
    "#print old and new string\n",
    "print(s1,'\\n',s2)"
   ]
  },
  {
   "cell_type": "code",
   "execution_count": 13,
   "metadata": {},
   "outputs": [
    {
     "name": "stdout",
     "output_type": "stream",
     "text": [
      "This is a Rather Long String\n",
      "\t 1 : ThWOW is a Rather Long String\n",
      "\t 2 : ThWOW WOW a Rather Long String\n"
     ]
    }
   ],
   "source": [
    "#substituition of strings via matching strings one by one\n",
    "import re\n",
    "#a test string\n",
    "s1 = 'This is a Rather Long String'\n",
    "pat = '.s'    #a pattern\n",
    "#find how many instances of the pattern\n",
    "countmax = len(re.findall(pat,s1))\n",
    "print(s1)    #print the string\n",
    "i = 1      #make substituition 1 by 1 \n",
    "while i < countmax+1:\n",
    "    #make a change\n",
    "    s2 = re.sub(pat,'WOW',s1,count=i)\n",
    "    #print that one change\n",
    "    print('\\t',i,':',s2)\n",
    "    i += 1   #increment counter"
   ]
  },
  {
   "cell_type": "code",
   "execution_count": 15,
   "metadata": {},
   "outputs": [
    {
     "name": "stdout",
     "output_type": "stream",
     "text": [
      "This is a Rather Long String\n",
      "\t 1 : ThWOW is a Rather Long String\n",
      "\t 2 : ThWOW WOW a Rather Long String\n",
      "\t 3 : ThWOW WOW a Rather LongWOWtring\n"
     ]
    }
   ],
   "source": [
    "import re\n",
    "#a test string\n",
    "s1 = 'This is a Rather Long String'\n",
    "pat = '.s'    #a pattern\n",
    "#find how many instances of the pattern\n",
    "countmax = len(re.findall(pat,s1, flags=re.I)) \n",
    "#flags= re.Ignoracase\n",
    "print(s1)    #print the string\n",
    "i = 1      #make substituition 1 by 1 \n",
    "while i < countmax+1:\n",
    "    #make a change\n",
    "    s2 = re.sub(pat,'WOW',s1,count=i, flags=re.I)\n",
    "    #print that one change\n",
    "    print('\\t',i,':',s2)\n",
    "    i += 1   #increment counter"
   ]
  },
  {
   "cell_type": "code",
   "execution_count": 18,
   "metadata": {},
   "outputs": [
    {
     "name": "stdout",
     "output_type": "stream",
     "text": [
      "First sentence. Second sentence\n",
      "s.split()\n",
      "\t\"First sentenc\"\n",
      "\t\" Second sentence\"\n",
      "re.split()\n",
      "\t\"First s\"\n",
      "\t\"t\"\n",
      "\t\"c\"\n",
      "\t\" S\"\n",
      "\t\"ond s\"\n",
      "\t\"t\"\n",
      "\t\"ce\"\n"
     ]
    }
   ],
   "source": [
    "import re\n",
    "#a test string\n",
    "s = 'First sentence. Second sentence'\n",
    "ss1 = s.split('e.') #do a regular split\n",
    "ss2 = re.split('e.',s) #do re.split\n",
    "print(s) #print sentence\n",
    "#print split() results\n",
    "print('s.split()')\n",
    "for ss in ss1:\n",
    "    print('\\t\"',ss,'\"',sep='')\n",
    "#print re.split() results\n",
    "print('re.split()')\n",
    "for ss in ss2:\n",
    "    print('\\t\"',ss,'\"',sep='')"
   ]
  },
  {
   "cell_type": "code",
   "execution_count": 19,
   "metadata": {},
   "outputs": [
    {
     "name": "stdout",
     "output_type": "stream",
     "text": [
      "This is a sentence.\n",
      "This-is-a-sentence.\n"
     ]
    }
   ],
   "source": [
    "#concat strings from a list\n",
    "s = 'This is a sentence.'\n",
    "wds = s.split()            #split into words\n",
    "hyphen = '-'               #define hyphen\n",
    "#join bits with hyphen\n",
    "hyphenated = hyphen.join(wds)\n",
    "print(s)\n",
    "print(hyphenated)"
   ]
  },
  {
   "cell_type": "code",
   "execution_count": 14,
   "metadata": {},
   "outputs": [
    {
     "name": "stdout",
     "output_type": "stream",
     "text": [
      "2172\n",
      "0-size\n",
      "1-to be sure, this generally happens when one eats cake, but Alicehad got so much into the way of expecting nothing but out-of-the-waythings to happen, that it seemed quite dull and stupid for life to goon in the common way\n",
      "2-So she set to work, and very soon finished off the cake\n",
      "3-* * * * * * * * * * * * ** * * * * * *CHAPTER II\n",
      "4-The Pool of Tears“Curiouser and curiouser\n",
      "5-” cried Alice (she was so much surprised, thatfor the moment she quite forgot how to speak good English)\n",
      "6-“now I’mopening out like the largest telescope that ever was\n",
      "7-Good-bye, feet\n",
      "8-”(for when she looked down at her feet, they seemed to be almost out ofsight, they were getting so far off)\n",
      "9-“Oh, my poor little feet, Iwonder who will put on your shoes and stockings for you now, dears\n"
     ]
    }
   ],
   "source": [
    "#load alice in wonderland and separate sentences\n",
    "#separate using .!?;:\n",
    "#remove leading and trailing spaces in every sentence\n",
    "#replace \\n and \\t with ''\n",
    "#replace multiple spaces with a single one\n",
    "\n",
    "import re\n",
    "alice_file = 'alice.txt'\n",
    "lines = []\n",
    "with open(alice_file, 'r') as f:\n",
    "    for l in f:\n",
    "        lines.append(l)\n",
    "\n",
    "    text = '\\n'.join(lines[255:])\n",
    "    text = re.sub('[\\n\\t]', '', text)\n",
    "    text = re.sub(' +', ' ', text)\n",
    "    sentences = re.split('[\\.\\?!;:]', text)\n",
    "    sentences = [i.strip() for i in sentences if i.strip()!='']\n",
    "\n",
    "print(len(sentences))\n",
    "for i, s in enumerate(sentences[:10]):\n",
    "    print(f'{i}-{s.strip()}')\n",
    "\n",
    "\n"
   ]
  },
  {
   "cell_type": "code",
   "execution_count": 18,
   "metadata": {},
   "outputs": [
    {
     "data": {
      "image/png": "[encoded data removed]",
      "text/plain": [
       "<Figure size 640x480 with 1 Axes>"
      ]
     },
     "metadata": {},
     "output_type": "display_data"
    }
   ],
   "source": [
    "#print the histogram of recurrent words in alice.txt\n",
    "#from the most frequent to the least and save into a file\n",
    "#male a barplot using matplotlib\n",
    "\n",
    "from collections import Counter\n",
    "import matplotlib.pyplot as plt\n",
    "# Open the file and read its contents\n",
    "with open('alice.txt', 'r') as file:\n",
    "  contents = file.read()\n",
    "# Split the contents into words\n",
    "words = contents.lower().split()\n",
    "# remove all punctuations and special characters\n",
    "for i in range(len(words)):\n",
    "  words[i] = words[i].strip('\\'`*.,;:?!-()[]{}\"')\n",
    " \n",
    "# Count the frequency of each word\n",
    "word_counts = Counter(words)\n",
    "# Print the histogram of recurrent words from the most frequent to the least frequent\n",
    "#and save it into a file and make a barplot using matplotlib\n",
    "with open('alice_words.txt', 'w') as file:\n",
    "  for word, count in word_counts.most_common():\n",
    "    file.write(word + ' ' + str(count) + '\\n')\n",
    "  words = [word for word, count in word_counts.most_common(40)]\n",
    "  counts = [count for word, count in word_counts.most_common(40)]\n",
    "  plt.bar(words, counts)\n",
    "  # activate horizontal grid\n",
    "  plt.grid(axis='y')\n",
    "  plt.xticks(rotation=45)\n",
    "  #ytick every 20 \n",
    "  plt.yticks(range(0, max(counts), 40))\n",
    "  plt.savefig('alice_words.png')\n",
    "  plt.show()\n",
    "\n"
   ]
  },
  {
   "cell_type": "code",
   "execution_count": 7,
   "metadata": {},
   "outputs": [
    {
     "name": "stdout",
     "output_type": "stream",
     "text": [
      "ciaoed:\tciao\n"
     ]
    }
   ],
   "source": [
    "#stemming function for words in -ed\n",
    "import re\n",
    "def stem(w):\n",
    "    #does the word end in ed?\n",
    "    m = re.search('(^.*)ed$', w)\n",
    "    if m: \n",
    "        return m.group(1) #return the stem (m[0] is the entire word)\n",
    "    else:\n",
    "        return w\n",
    "\n",
    "#get word form command-line\n",
    "word = input()\n",
    "root = stem(word)   #stem it\n",
    "#print word and its stem\n",
    "print(word,':\\t',root,sep='')"
   ]
  },
  {
   "cell_type": "code",
   "execution_count": 12,
   "metadata": {},
   "outputs": [
    {
     "name": "stdout",
     "output_type": "stream",
     "text": [
      "ohyesyesbroyes\n",
      "VCVVCVVCCCVCVC\n"
     ]
    }
   ],
   "source": [
    "#the measure of a stem is defined in terms of consonants and vowels\n",
    "#specifically a consonant is defined as a letter other than a,e,i,o,u or y\n",
    "#in the case of y, it is a consonant if it is not preceded by a consonant\n",
    "#we therefore start with a function to determine wheter some specific letter\n",
    "#in a string is a consonant and print the sequence of C and V accordingly\n",
    "#example: departed -> CVCVCCVC python -> CVCCVC\n",
    "\n",
    "import re\n",
    "\n",
    "#test if letter is consonant \n",
    "#with respect to word\n",
    "def consonant(s, i):\n",
    "    letter = s[i] #get relavant letter\n",
    "    #it's not a consonant if it's aeiou\n",
    "    if letter in 'aeiou':\n",
    "        return False\n",
    "    #word-initial y is a consonant\n",
    "    elif letter == 'y' and i == 0:\n",
    "        return True\n",
    "    elif letter == 'y' and consonant(s,i-1):\n",
    "        return False\n",
    "    else: \n",
    "        return True\n",
    "    \n",
    "word = input().lower()\n",
    "print(word)\n",
    "\n",
    "for i in range(len(word)):\n",
    "    if consonant(word, i):\n",
    "        print('C',end='')\n",
    "    else:\n",
    "        print('V',end='')\n",
    "print()"
   ]
  },
  {
   "cell_type": "code",
   "execution_count": 1,
   "metadata": {},
   "outputs": [
    {
     "name": "stdout",
     "output_type": "stream",
     "text": [
      "vaiolo\n",
      "CVVVCV\n",
      "1\n"
     ]
    }
   ],
   "source": [
    "#find all CV combination in a word\n",
    "#if we take C to be a consonant and V to be a vowel\n",
    "#porter treats all stems as matching this regular expression\n",
    "#C*(V+C+)*V* the measure of a stem is defined as the number of times\n",
    "#the (V+C+)* part matches (remember + indicates one or more occurences\n",
    "#of the preceding element). Another, simpler way to look at this is that the \n",
    "#measure of a string is the number of times the sequence VC occurs.\n",
    "#Porter gives these examples:\n",
    "#m = 0 tr, ee, tree, y, by\n",
    "#m = 1 trouble, oats, trees, ivy\n",
    "#m = 2 troubles, private, oaten, orrery\n",
    "#implement the measure function that converts a stem to Cs\n",
    "#and Vs and the returns the number of times the sequence VC occurs\n",
    "\n",
    "import re\n",
    "#checks if some element in a string is a consonant\n",
    "def consonant(s, i):\n",
    "    letter = s[i]\n",
    "    if letter in 'aeiou':\n",
    "        return False\n",
    "    elif letter == 'y' and i == 0:\n",
    "        return True\n",
    "    elif letter == 'y' and consonant(s,i-1):\n",
    "        return False\n",
    "    else:\n",
    "        return True\n",
    "\n",
    "#converts string to Cs and Vs\n",
    "def cv(w):\n",
    "    res = ''\n",
    "    for i in range(len(w)):\n",
    "        if consonant(w, i):\n",
    "            res += 'C'\n",
    "        else:\n",
    "            res += 'V'\n",
    "    return res\n",
    "    \n",
    "#return the measure of a string\n",
    "def measure(w):\n",
    "    cvword = cv(w)\n",
    "    vcs = re.findall('VC', cvword)\n",
    "    return len(vcs)\n",
    "\n",
    "     \n",
    "word = input().lower()\n",
    "print(word)\n",
    "print(cv(word))\n",
    "print(measure(word))"
   ]
  },
  {
   "cell_type": "code",
   "execution_count": 5,
   "metadata": {},
   "outputs": [
    {
     "name": "stdout",
     "output_type": "stream",
     "text": [
      "vaioloed\n",
      "vaiolo\n"
     ]
    }
   ],
   "source": [
    "import sys\n",
    "def rule(c,e,r,w):\n",
    "    m = re.search('^(.*)'+e+'$',w)\n",
    "    if m:\n",
    "        s = m.group(1)\n",
    "        if c(s):\n",
    "            return s+r\n",
    "    return\n",
    "\n",
    "def mlcond(x):\n",
    "    if measure(x) > 0:\n",
    "        return True\n",
    "    return False\n",
    "\n",
    "def edrule(w):\n",
    "    x = rule(mlcond, 'ed', '', w)\n",
    "    return x\n",
    "\n",
    "def stem(w):\n",
    "    res = edrule(w)\n",
    "    if res:\n",
    "        return res\n",
    "    return w\n",
    "\n",
    "word = input()\n",
    "print(word)\n",
    "print(stem(word))"
   ]
  }
 ],
 "metadata": {
  "kernelspec": {
   "display_name": "Python 3",
   "language": "python",
   "name": "python3"
  },
  "language_info": {
   "codemirror_mode": {
    "name": "ipython",
    "version": 3
   },
   "file_extension": ".py",
   "mimetype": "text/x-python",
   "name": "python",
   "nbconvert_exporter": "python",
   "pygments_lexer": "ipython3",
   "version": "3.10.12"
  }
 },
 "nbformat": 4,
 "nbformat_minor": 2
}
