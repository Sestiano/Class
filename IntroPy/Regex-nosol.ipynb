{
 "cells": [
  {
   "cell_type": "code",
   "execution_count": 1,
   "metadata": {},
   "outputs": [
    {
     "name": "stdout",
     "output_type": "stream",
     "text": [
      "True\n"
     ]
    }
   ],
   "source": [
    "#if we want to know if a string s contained the sequence ab\n",
    "#we could write ab in s, which would return True or False\n",
    "import sys\n",
    "\n",
    "def mymatch(s):\n",
    "    i = 0\n",
    "    #flag to keep track of wheter we see an 'a'\n",
    "    aFlag = False\n",
    "    while i < len(s):\n",
    "        if s[i] == 'a':\n",
    "            aFlag = True\n",
    "            break\n",
    "        i += 1\n",
    "    #look for 'b' where we left off\n",
    "    while i < len(s):\n",
    "        if s[i] == 'b':\n",
    "            #if we find 'b', return True or False depending\n",
    "            #on wheter we previously saw an 'a'ArithmeticError\n",
    "            return aFlag\n",
    "        i += 1\n",
    "    #if all that fails return False\n",
    "    return False\n",
    "\n",
    "s = input().lower()\n",
    "print(mymatch(s))"
   ]
  },
  {
   "cell_type": "code",
   "execution_count": 2,
   "metadata": {},
   "outputs": [
    {
     "name": "stdout",
     "output_type": "stream",
     "text": [
      "a match\n"
     ]
    }
   ],
   "source": [
    "#seatch to find match strings\n",
    "import re\n",
    "\n",
    "query = 'giant bear'\n",
    "if re.search('a.*b', query):\n",
    "    print('a match')\n",
    "else:\n",
    "    print('no match')"
   ]
  },
  {
   "cell_type": "code",
   "execution_count": 1,
   "metadata": {},
   "outputs": [
    {
     "name": "stdout",
     "output_type": "stream",
     "text": [
      "hat does not matches 'a.*b'\n",
      "r is a match None\n",
      "r != False\n",
      "r == None\n",
      "nab matches 'a.*b'\n",
      "r is a match object\n",
      "r != False\n",
      "r != None\n"
     ]
    }
   ],
   "source": [
    "import re\n",
    "\n",
    "w1 = 'hat'\n",
    "w2 = 'nab'\n",
    "\n",
    "res1 = re.search('a.*b',w1)\n",
    "res2 = re.search('a.*b',w2)\n",
    "\n",
    "for s,r in [(w1,res1),(w2,res2)]:\n",
    "    if r:\n",
    "        print(s,\"matches 'a.*b'\")\n",
    "        print('r is a match object')\n",
    "    else:\n",
    "        print(s,\"does not matches 'a.*b'\")\n",
    "        print('r is a match None')\n",
    "    if r == False:\n",
    "        print('r == False')\n",
    "    else:\n",
    "        print('r != False')\n",
    "    if r == None:\n",
    "        print('r == None')\n",
    "    else:\n",
    "         print('r != None')"
   ]
  },
  {
   "cell_type": "code",
   "execution_count": 3,
   "metadata": {},
   "outputs": [
    {
     "name": "stdout",
     "output_type": "stream",
     "text": [
      "match: 'abb'\n"
     ]
    }
   ],
   "source": [
    "import re,sys\n",
    "\n",
    "res = re.search('a.*b',input())\n",
    "if res:\n",
    "    print(\"match: '\",res.group(),\"'\",sep='')\n",
    "else:\n",
    "    print('no match')"
   ]
  },
  {
   "cell_type": "code",
   "execution_count": 4,
   "metadata": {},
   "outputs": [
    {
     "name": "stdout",
     "output_type": "stream",
     "text": [
      "match: ['a', 'a', 'a', 'a', 'a']\n"
     ]
    }
   ],
   "source": [
    "import re,sys\n",
    "\n",
    "w1 = 'abracadabra'\n",
    "\n",
    "res = re.findall('a',w1)\n",
    "if res: \n",
    "    print('match:',res)\n",
    "else:\n",
    "    print('no match:',res)"
   ]
  },
  {
   "cell_type": "code",
   "execution_count": 5,
   "metadata": {},
   "outputs": [
    {
     "name": "stdout",
     "output_type": "stream",
     "text": [
      "ciao -> no match\n",
      "dracula -> no match\n",
      "conad -> no match\n",
      "adamello -> match: 'da'\n"
     ]
    }
   ],
   "source": [
    "import re,sys\n",
    "\n",
    "words = ['ciao', 'dracula', 'conad', 'adamello']\n",
    "pattern = 'da'\n",
    "#do a match\n",
    "for w in words:\n",
    " res = re.search(pattern,w)\n",
    " if res: #if match succeeds, print matching\n",
    "   print(f\"{w} -> match: '\",res.group(),\"'\",sep='')\n",
    " else:\n",
    "   print(f\"{w} -> no match\")"
   ]
  }
 ],
 "metadata": {
  "kernelspec": {
   "display_name": "Python 3",
   "language": "python",
   "name": "python3"
  },
  "language_info": {
   "codemirror_mode": {
    "name": "ipython",
    "version": 3
   },
   "file_extension": ".py",
   "mimetype": "text/x-python",
   "name": "python",
   "nbconvert_exporter": "python",
   "pygments_lexer": "ipython3",
   "version": "3.10.12"
  }
 },
 "nbformat": 4,
 "nbformat_minor": 2
}
