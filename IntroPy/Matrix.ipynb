{
 "cells": [
  {
   "cell_type": "code",
   "execution_count": 1,
   "metadata": {},
   "outputs": [
    {
     "name": "stdout",
     "output_type": "stream",
     "text": [
      "Esercizio 1\n",
      "[9, 9, 7, 3, 6]\n",
      "[2, 1, 7, 9, 6]\n",
      "[9, 4, 6, 9, 7]\n",
      "[6, 5, 8, 5, 5]\n",
      "[2, 1, 1, 3, 4]\n",
      "\n"
     ]
    }
   ],
   "source": [
    "#crea una matrici 5x5 che viene riempita casualmente\n",
    "#con numeri interi tra 1 e 9\n",
    "import random\n",
    "print(\"Esercizio 1\")\n",
    "matrix = [[random.randint(1, 9) for _ in range(5)] for _ in range(5)]\n",
    "for row in matrix:\n",
    "    print(row)\n",
    "print()"
   ]
  },
  {
   "cell_type": "code",
   "execution_count": 2,
   "metadata": {},
   "outputs": [
    {
     "name": "stdout",
     "output_type": "stream",
     "text": [
      "Esercizio 2\n",
      "[0, 1, 0, 1, 1]\n",
      "[0, 1, 1, 0, 0]\n",
      "[0, 1, 0, 0, 1]\n",
      "[0, 1, 0, 1, 0]\n",
      "[1, 0, 0, 0, 0]\n",
      "Il numero 0 compare: 15 volte\n",
      "Il numero 1 compare: 10 volte\n",
      "\n"
     ]
    }
   ],
   "source": [
    "#crea una matrice 4x4 riempita casualmente con 0 e 1. \n",
    "#conta quanti 1 e 0 ci sono\n",
    "print(\"Esercizio 2\")\n",
    "mat4 = [[random.randint(0, 1) for _ in range(5)] for _ in range(5)]\n",
    "counter0 = 0\n",
    "counter1 = 0\n",
    "for i in range(len(mat4)):\n",
    "    for j in range(len(mat4[i])):\n",
    "        if mat4[i][j] == 0:\n",
    "            counter0 += 1\n",
    "        else:\n",
    "            counter1 += 1\n",
    "\n",
    "for row in mat4:\n",
    "    print(row)\n",
    "print(\"Il numero 0 compare:\", counter0, \"volte\")\n",
    "print(\"Il numero 1 compare:\", counter1, \"volte\")\n",
    "\n",
    "print()"
   ]
  },
  {
   "cell_type": "code",
   "execution_count": 3,
   "metadata": {},
   "outputs": [
    {
     "name": "stdout",
     "output_type": "stream",
     "text": [
      "Esercizio 3\n",
      "[[10 10  2  4]\n",
      " [ 4  2  6  3]\n",
      " [ 4  3  7  1]\n",
      " [ 7 10  3  5]]\n",
      "Somma delle righe: [26 15 15 25]\n",
      "Somma delle colonne: [25 25 18 13]\n",
      "\n"
     ]
    }
   ],
   "source": [
    "#crea una matrice 4x4 casualmente con numeri interi \n",
    "#tra 1 e 10 e calcola la somma di ogni riga e di ogni col\n",
    "import numpy as np\n",
    "print(\"Esercizio 3\")\n",
    "matrice = np.random.randint(1, 11, (4, 4))\n",
    "print(matrice)\n",
    "somma_righe = np.sum(matrice, axis=1)\n",
    "somma_colonne = np.sum(matrice, axis=0)\n",
    "print(\"Somma delle righe:\", somma_righe)\n",
    "print(\"Somma delle colonne:\", somma_colonne)\n",
    "print()"
   ]
  },
  {
   "cell_type": "code",
   "execution_count": 4,
   "metadata": {},
   "outputs": [
    {
     "name": "stdout",
     "output_type": "stream",
     "text": [
      "Esecizio 4\n",
      "[[ 3  6 10  1]\n",
      " [ 5  8  0  3]\n",
      " [ 2  3  0  7]\n",
      " [ 0  2  8  5]]\n",
      "\n",
      "Diagonale principale della matrice: [10  2  7  5]\n",
      "\n"
     ]
    }
   ],
   "source": [
    "#crea una matrice quadrata 4x4 e stampa solo gli elementi\n",
    "#sulla diagonale principale \n",
    "print(\"Esecizio 4\")\n",
    "square = np.random.randint(0, 11, (4, 4))\n",
    "print(square)\n",
    "diagonale = np.diag(matrice)\n",
    "print(\"\\nDiagonale principale della matrice:\", diagonale)\n",
    "print()"
   ]
  },
  {
   "cell_type": "code",
   "execution_count": 5,
   "metadata": {},
   "outputs": [
    {
     "name": "stdout",
     "output_type": "stream",
     "text": [
      "Esercizio 5\n",
      "[[ 8  4 10]\n",
      " [ 3 10  7]\n",
      " [ 7  2  4]]\n",
      "\n",
      "Matrice trasposta:\n",
      "[[ 8  3  7]\n",
      " [ 4 10  2]\n",
      " [10  7  4]]\n",
      "\n"
     ]
    }
   ],
   "source": [
    "#crea una matrice 3x3 interi casuali tra 1 e 10\n",
    "#calcola la matrice trasposta (che ha scambiate righe e colonne)\n",
    "print(\"Esercizio 5\")\n",
    "matrix = np.random.randint(1, 11, (3, 3))\n",
    "print(matrix)\n",
    "matrix_transpose = matrix.T\n",
    "print(\"\\nMatrice trasposta:\")\n",
    "print(matrix_transpose)\n",
    "print()"
   ]
  },
  {
   "cell_type": "code",
   "execution_count": 6,
   "metadata": {},
   "outputs": [
    {
     "name": "stdout",
     "output_type": "stream",
     "text": [
      "Esercizio 6:\n",
      "Matrice A:\n",
      "[[3 6]\n",
      " [6 2]]\n",
      "Matrice B:\n",
      "[[3 7]\n",
      " [5 5]]\n",
      "\n",
      "Prodotto delle matrici A e B:\n",
      "[[39 51]\n",
      " [28 52]]\n",
      "\n"
     ]
    }
   ],
   "source": [
    "#crea due matrici 2x2 interi 1 e 10 \n",
    "#calcola il prodototto delle due matrici\n",
    "print(\"Esercizio 6:\")\n",
    "matrix_a = np.random.randint(1, 11, (2, 2))\n",
    "matrix_b = np.random.randint(1, 11, (2, 2))\n",
    "print(\"Matrice A:\")\n",
    "print(matrix_a)\n",
    "print(\"Matrice B:\")\n",
    "print(matrix_b)\n",
    "prodotto = np.dot(matrix_a, matrix_b)\n",
    "print(\"\\nProdotto delle matrici A e B:\")\n",
    "print(prodotto)\n",
    "print()"
   ]
  },
  {
   "cell_type": "code",
   "execution_count": 7,
   "metadata": {},
   "outputs": [
    {
     "name": "stdout",
     "output_type": "stream",
     "text": [
      "Esercizio 7:\n",
      "Matrice A:\n",
      "[[9 2 5]\n",
      " [1 3 6]\n",
      " [7 1 2]]\n",
      "Matrice B:\n",
      "[[4 2 6]\n",
      " [4 8 6]\n",
      " [7 5 5]]\n",
      "\n",
      "Somma delle matrici A e B:\n",
      "[[13  4 11]\n",
      " [ 5 11 12]\n",
      " [14  6  7]]\n",
      "\n"
     ]
    }
   ],
   "source": [
    "#somma due matrici 3x3\n",
    "print(\"Esercizio 7:\")\n",
    "matrix1 = np.random.randint(1, 11, (3, 3))\n",
    "matrix2 = np.random.randint(1, 11, (3, 3))\n",
    "print(\"Matrice A:\")\n",
    "print(matrix1)\n",
    "print(\"Matrice B:\")\n",
    "print(matrix2)\n",
    "somma = matrix1 + matrix2\n",
    "print(\"\\nSomma delle matrici A e B:\")\n",
    "print(somma)\n",
    "print()"
   ]
  },
  {
   "cell_type": "code",
   "execution_count": 8,
   "metadata": {},
   "outputs": [
    {
     "name": "stdout",
     "output_type": "stream",
     "text": [
      "Esercizio 8:\n",
      "[[ 3 10  6 18]\n",
      " [16 20  3 13]\n",
      " [11  5 14 15]\n",
      " [10  7 14  8]]\n",
      "Sì, eccolo\n",
      "Alle seguenti coordinate:\n",
      "Riga: 1, Colonna: 1\n",
      "Riga: 2, Colonna: 3\n"
     ]
    }
   ],
   "source": [
    "#crea una matrice 4x4 con numeri interi casuali tra 1 e 20\n",
    "#chiedi all'utente di inserire un numero e verifica se quel\n",
    "#numero è presente nella matrice\n",
    "print(\"Esercizio 8:\")\n",
    "matrix = np.random.randint(1, 21, (4, 4))\n",
    "print(matrix)\n",
    "guess = input(\"Inserisci un numero: \")\n",
    "try:\n",
    "    guess = int(guess) \n",
    "    if np.isin(guess, matrix):\n",
    "        print(\"Sì, eccolo\")\n",
    "        posizioni = np.where(matrix == guess)\n",
    "        lista_posizioni = list(zip(posizioni[0], posizioni[1]))\n",
    "        print(\"Alle seguenti coordinate:\")\n",
    "        for posizione in lista_posizioni:\n",
    "            print(f\"Riga: {posizione[0] + 1}, Colonna: {posizione[1] + 1}\")\n",
    "    else:\n",
    "        print(\"Non c'è il numero che cerchi\")\n",
    "except ValueError:\n",
    "    print(\"Il numero non è un numero\")"
   ]
  },
  {
   "cell_type": "code",
   "execution_count": 9,
   "metadata": {},
   "outputs": [
    {
     "name": "stdout",
     "output_type": "stream",
     "text": [
      "Matrice con random:\n",
      " [[ 0.69457461 -0.04416067 -2.63667567 -0.13260054  0.35458473]\n",
      " [-1.39603617  1.97305492 -1.70552096  1.44459804  0.68697025]\n",
      " [-1.62356787 -1.82544675  1.10620305  0.90310142  1.25981354]\n",
      " [-1.40780367  1.15484647 -1.3658458   0.44881523  0.87409743]\n",
      " [-1.93636642 -0.58629063 -0.04003189  0.39699092 -0.41552532]]\n",
      "Matrice con tutti 0:\n",
      " [[0. 0. 0. 0. 0.]\n",
      " [0. 0. 0. 0. 0.]\n",
      " [0. 0. 0. 0. 0.]\n",
      " [0. 0. 0. 0. 0.]\n",
      " [0. 0. 0. 0. 0.]]\n"
     ]
    }
   ],
   "source": [
    "import numpy as np\n",
    "import random\n",
    "S = np.random.randn(5,5)\n",
    "S2 = np.zeros((5,5))\n",
    "print(\"Matrice con random:\\n\", S)\n",
    "print(\"Matrice con tutti 0:\\n\", S2)"
   ]
  },
  {
   "cell_type": "code",
   "execution_count": 10,
   "metadata": {},
   "outputs": [
    {
     "name": "stdout",
     "output_type": "stream",
     "text": [
      "Matrice usando liste:\n",
      "[0, 0, 0, 0, 0]\n",
      "[0, 0, 0, 0, 0]\n",
      "[0, 0, 0, 0, 0]\n",
      "[0, 0, 0, 0, 0]\n",
      "[0, 0, 0, 0, 0]\n",
      "Matrice casuale usando le liste:\n",
      "[1.267587147350232, -0.34679076817764004, -0.8670410618553378, 0.23706214983123483, 1.7455221130902059]\n",
      "[0.1961494102449602, 1.8516204092353579, -1.039482615282201, -0.2494287171703108, 2.1480696905286645]\n",
      "[0.6969126518865936, 0.5059464532870767, -0.31280528656775985, 0.49966046059931635, 0.07502699516754509]\n",
      "[0.7527606181897374, -0.062435989176307036, -0.42673032469177447, -0.11652010136035296, 1.049144395782041]\n",
      "[-0.1421933229359929, 0.09866771130226994, 0.4505846442683187, -0.4172853973747718, 0.0026520927422843854]\n"
     ]
    }
   ],
   "source": [
    "#con lista\n",
    "matrice = [[0 for _ in range(5)]for _ in range(5)]\n",
    "print(\"Matrice usando liste:\")\n",
    "for riga in matrice:\n",
    "    print(riga)\n",
    "\n",
    "matrice2 = [[np.random.randn() for _ in range(5)]for _ in range(5)]\n",
    "print(\"Matrice casuale usando le liste:\")\n",
    "for riga in matrice2:\n",
    "    print(riga)"
   ]
  },
  {
   "cell_type": "code",
   "execution_count": 11,
   "metadata": {},
   "outputs": [
    {
     "name": "stdout",
     "output_type": "stream",
     "text": [
      "Matrice 10x10: \n",
      "[[0 1 1 0 0 0 0 1 0 0]\n",
      " [0 0 1 1 1 0 1 1 0 0]\n",
      " [1 0 0 0 1 1 0 1 1 1]\n",
      " [1 0 0 1 0 1 0 0 1 0]\n",
      " [1 0 1 1 1 0 0 0 0 0]\n",
      " [0 1 0 1 0 1 0 1 1 0]\n",
      " [0 1 1 0 1 1 0 1 0 0]\n",
      " [0 1 0 1 0 0 1 1 1 0]\n",
      " [0 0 0 0 0 0 0 0 1 1]\n",
      " [1 1 0 0 0 0 0 0 0 0]]\n",
      "Initial state:\n",
      "Generation 1\n",
      "- * * - - - * * - -\n",
      "- - * - * - - - - -\n",
      "- * * - - - - - - *\n",
      "* - * - - * * * * *\n",
      "* - - - - * * * * -\n",
      "* - - - - * - * * -\n",
      "* * - - - * - - - -\n",
      "- * - * * * * - - *\n",
      "* * * - - - - - * *\n",
      "- - - - - - - - - -\n",
      "Generation 2\n",
      "- * * * - - - - - -\n",
      "- - - - - - - - - -\n",
      "- - * - - * * * - *\n",
      "* - * - - * - - - *\n",
      "* - - - * - - - - -\n",
      "* - - - * * - - * -\n",
      "* * * - - - - * * -\n",
      "- - - * * * * - * *\n",
      "* * * * * * - - * *\n",
      "- * - - - - - - - -\n",
      "Generation 3\n",
      "- - * - - - - - - -\n",
      "- * - * - - * - - -\n",
      "- * - - - * * - * -\n",
      "- - - * * * - - * -\n",
      "* - - * * - - - - -\n",
      "* - - * * * - * * -\n",
      "* * * - - - - - - -\n",
      "- - - - - - * - - -\n",
      "* * - - - - * * * *\n",
      "* * - * * - - - - -\n",
      "Generation 4\n",
      "- - * - - - - - - -\n",
      "- * - - - * * * - -\n",
      "- - - * - - * - - -\n",
      "- - * * - - * * - -\n",
      "- - * - - - * * * -\n",
      "* - - - - * - - - -\n",
      "* * * * * * * * - -\n",
      "- - * - - - * - * -\n",
      "* * * - - * * * * -\n",
      "* * * - - - - * * -\n",
      "Generation 5\n",
      "- - - - - - * - - -\n",
      "- - * - - * * * - -\n",
      "- - - * * - - - - -\n",
      "- - * * - * - - * -\n",
      "- * * * - * - - * -\n",
      "* - - - - - - - * -\n",
      "* - * * * - - * - -\n",
      "- - - - - - - - * -\n",
      "* - - * - * - - - *\n",
      "* - * - - - - - * -\n",
      "Generation 6\n",
      "- - - - - * * * - -\n",
      "- - - * * * * * - -\n",
      "- - - - - - - * - -\n",
      "- * - - - * - - - -\n",
      "- * - * - - - * * *\n",
      "* - - - - - - * * -\n",
      "- * - * - - - * * -\n",
      "- * * - - - - - * -\n",
      "- * - - - - - - * *\n",
      "- * - - - - - - - -\n",
      "Generation 7\n",
      "- - - - - - - * - -\n",
      "- - - - * - - - * -\n",
      "- - - - - - - * - -\n",
      "- - * - - - * * - -\n",
      "* * * - - - * * - *\n",
      "* * - - - - * - - -\n",
      "* * - - - - - - - *\n",
      "* * - - - - - - - -\n",
      "* * - - - - - - * *\n",
      "- - - - - - - - - -\n",
      "Generation 8\n",
      "- - - - - - - - - -\n",
      "- - - - - - - * * -\n",
      "- - - - - - * * * -\n",
      "- - * - - - - - - -\n",
      "* - * - - * - - * -\n",
      "- - - - - - * * * -\n",
      "- - * - - - - - - -\n",
      "- - * - - - - - * *\n",
      "* * - - - - - - - -\n",
      "- - - - - - - - - -\n",
      "Generation 9\n",
      "- - - - - - - - - -\n",
      "- - - - - - * - * -\n",
      "- - - - - - * - * -\n",
      "- * - - - - * - * -\n",
      "- * - - - - * - * -\n",
      "- * - - - - * * * -\n",
      "- - - - - - - - - *\n",
      "- - * - - - - - - -\n",
      "- * - - - - - - - -\n",
      "- - - - - - - - - -\n",
      "Generation 10\n",
      "- - - - - - - - - -\n",
      "- - - - - - - - - -\n",
      "- - - - - * * - * *\n",
      "- - - - - * * - * *\n",
      "* * * - - * * - * *\n",
      "- - - - - - * - * *\n",
      "- - - - - - - * * -\n",
      "- - - - - - - - - -\n",
      "- - - - - - - - - -\n",
      "- - - - - - - - - -\n"
     ]
    }
   ],
   "source": [
    "print(\"Matrice 10x10: \")\n",
    "matrix = np.random.randint(0, 2, (10, 10))\n",
    "griglia = []\n",
    "\n",
    "\n",
    "for i in range(len(matrix)):\n",
    "    row = []\n",
    "    for j in range(len(matrix[i])):\n",
    "        if matrix[i][j] == 1:\n",
    "            row.append(\"*\")\n",
    "        else:\n",
    "            row.append(\"-\")\n",
    "    griglia.append(row)\n",
    "        \n",
    "print(matrix)\n",
    "print(\"Initial state:\")\n",
    "\n",
    "def print_matrix(matrix):\n",
    "    for row in matrix:\n",
    "        print(\" \".join(row))\n",
    "\n",
    "\n",
    "def dead_or_alive(matrix, i, j, size_n=10):\n",
    "    upper_k = i - 1 if i > 0 else 0\n",
    "    lower_k = i + 1 if i < size_n - 1 else size_n - 1\n",
    "    upper_l = j - 1 if j > 0 else 0\n",
    "    lower_l = j + 1 if j < size_n - 1 else size_n - 1\n",
    "\n",
    "    alive_neighbors = 0\n",
    "    for k in range(upper_k, lower_k + 1):\n",
    "        for l in range(upper_l, lower_l + 1):\n",
    "            if (k, l) != (i, j):\n",
    "                alive_neighbors += matrix[k][l]\n",
    "\n",
    "    if matrix[i][j] == 1:\n",
    "        if alive_neighbors < 2 or alive_neighbors > 3:\n",
    "            return 0\n",
    "        else:\n",
    "            return 1\n",
    "    else:\n",
    "        if alive_neighbors == 3:\n",
    "            return 1\n",
    "    return 0\n",
    "\n",
    "\n",
    "def play_game_of_life_step(matrix, size_n=10):\n",
    "    new_matrix = np.zeros((size_n, size_n), dtype=int)\n",
    "    for i in range(size_n):\n",
    "        for j in range(size_n):\n",
    "            new_matrix[i][j] = dead_or_alive(matrix, i, j, size_n)\n",
    "    return new_matrix\n",
    "\n",
    "\n",
    "for gen_id in range(1, 11):\n",
    "    print(f'Generation {gen_id}')\n",
    "    matrix = play_game_of_life_step(matrix, 10)\n",
    "    print_matrix([[\"*\" if cell == 1 else \"-\" for cell in row] for row in matrix])"
   ]
  }
 ],
 "metadata": {
  "kernelspec": {
   "display_name": "Python 3",
   "language": "python",
   "name": "python3"
  },
  "language_info": {
   "codemirror_mode": {
    "name": "ipython",
    "version": 3
   },
   "file_extension": ".py",
   "mimetype": "text/x-python",
   "name": "python",
   "nbconvert_exporter": "python",
   "pygments_lexer": "ipython3",
   "version": "3.10.12"
  }
 },
 "nbformat": 4,
 "nbformat_minor": 2
}
